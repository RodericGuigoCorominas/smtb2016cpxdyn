{
  "cells": [
    {
      "cell_type": "markdown",
      "metadata": {
        "id": "97Yy6nd8ZcdF"
      },
      "source": [
        "# This is an iPython notebook\n",
        "#### You can use it as a calculator. Press Shift + Intro to execute each cell. "
      ]
    },
    {
      "cell_type": "code",
      "execution_count": null,
      "metadata": {
        "id": "_aEt1u0zZcdH",
        "outputId": "f78e08c8-7491-4857-cc29-df2e2b4e5561"
      },
      "outputs": [
        {
          "data": {
            "text/plain": [
              "3"
            ]
          },
          "execution_count": 2,
          "metadata": {},
          "output_type": "execute_result"
        }
      ],
      "source": [
        "1+2"
      ]
    },
    {
      "cell_type": "code",
      "execution_count": null,
      "metadata": {
        "id": "pMaDEVM-ZcdJ",
        "outputId": "0934378d-53ae-4855-f43f-6d3a8c809fe2"
      },
      "outputs": [
        {
          "data": {
            "text/plain": [
              "-7"
            ]
          },
          "execution_count": 3,
          "metadata": {},
          "output_type": "execute_result"
        }
      ],
      "source": [
        "3-10"
      ]
    },
    {
      "cell_type": "code",
      "execution_count": null,
      "metadata": {
        "id": "QzN3pm9SZcdJ",
        "outputId": "91ba9bc7-12f8-4a27-f550-cea948a896b6"
      },
      "outputs": [
        {
          "data": {
            "text/plain": [
              "12"
            ]
          },
          "execution_count": 4,
          "metadata": {},
          "output_type": "execute_result"
        }
      ],
      "source": [
        "3*4"
      ]
    },
    {
      "cell_type": "code",
      "execution_count": null,
      "metadata": {
        "id": "c14MMNqyZcdK",
        "outputId": "0333d657-16f8-4873-ad87-acddf3aecec7"
      },
      "outputs": [
        {
          "data": {
            "text/plain": [
              "0.5"
            ]
          },
          "execution_count": 5,
          "metadata": {},
          "output_type": "execute_result"
        }
      ],
      "source": [
        "4.0/8"
      ]
    },
    {
      "cell_type": "code",
      "execution_count": null,
      "metadata": {
        "id": "8Iu6l8YzZcdK",
        "outputId": "18376335-1349-48dc-94e4-f46dd7ddb05c"
      },
      "outputs": [
        {
          "data": {
            "text/plain": [
              "64"
            ]
          },
          "execution_count": 6,
          "metadata": {},
          "output_type": "execute_result"
        }
      ],
      "source": [
        "4**3 #This takes 4 to the power 3"
      ]
    },
    {
      "cell_type": "code",
      "execution_count": null,
      "metadata": {
        "id": "Jk7ZObPEZcdL"
      },
      "outputs": [],
      "source": [
        "16**(0.5) #This takes the square root"
      ]
    },
    {
      "cell_type": "markdown",
      "metadata": {
        "id": "agbilY1cZcdL"
      },
      "source": [
        "#### You can assign values to variables by using the equal sign \"=\""
      ]
    },
    {
      "cell_type": "code",
      "execution_count": null,
      "metadata": {
        "id": "amKyCpKmZcdM",
        "outputId": "6bc22487-ddd5-423a-ac50-88db138b43a6"
      },
      "outputs": [
        {
          "name": "stdout",
          "output_type": "stream",
          "text": [
            "45\n",
            "14\n",
            "-4\n"
          ]
        }
      ],
      "source": [
        "a=5\n",
        "b=9\n",
        "#Now a has a value of 5 and b a value of 9. You can operate with a and b directly\n",
        "print(a*b)\n",
        "print(a+b)\n",
        "print(a-b)"
      ]
    },
    {
      "cell_type": "markdown",
      "metadata": {
        "id": "YDRC1K3UZcdN"
      },
      "source": [
        "#### To work with complex numbers you have to use 1j instead of i:  <b> 2+3*1j </b>"
      ]
    },
    {
      "cell_type": "code",
      "execution_count": null,
      "metadata": {
        "id": "jsuLxuVbZcdN",
        "outputId": "2c735af2-2633-4f65-e78b-e679a3625a5d"
      },
      "outputs": [
        {
          "data": {
            "text/plain": [
              "(1.2+7j)"
            ]
          },
          "execution_count": 9,
          "metadata": {},
          "output_type": "execute_result"
        }
      ],
      "source": [
        "(1+3*1j) + (0.2+4*1j)"
      ]
    },
    {
      "cell_type": "code",
      "execution_count": null,
      "metadata": {
        "id": "zAf60qrWZcdO",
        "outputId": "cd617ad3-a508-4b7c-f1b7-5039f80f5fe7"
      },
      "outputs": [
        {
          "data": {
            "text/plain": [
              "(-1+0j)"
            ]
          },
          "execution_count": 10,
          "metadata": {},
          "output_type": "execute_result"
        }
      ],
      "source": [
        "1j*1j #i^2=-1"
      ]
    },
    {
      "cell_type": "code",
      "execution_count": null,
      "metadata": {
        "id": "F4LISabxZcdO",
        "outputId": "91e8bb42-c39c-454a-8773-3f9de053e292"
      },
      "outputs": [
        {
          "data": {
            "text/plain": [
              "(-1+5j)"
            ]
          },
          "execution_count": 11,
          "metadata": {},
          "output_type": "execute_result"
        }
      ],
      "source": [
        "(2+3*1j)*(1+1j)"
      ]
    },
    {
      "cell_type": "code",
      "execution_count": null,
      "metadata": {
        "id": "2M8eZ7P1ZcdP",
        "outputId": "b3fb2e2f-d540-4f88-cddc-672138471aec"
      },
      "outputs": [
        {
          "name": "stdout",
          "output_type": "stream",
          "text": [
            "(9+1j)\n",
            "(8+8j)\n",
            "(16+0j)\n"
          ]
        }
      ],
      "source": [
        "c=(1+1j)\n",
        "d=8\n",
        "print(c+d)\n",
        "print(c*d)\n",
        "print(c**d)"
      ]
    },
    {
      "cell_type": "markdown",
      "metadata": {
        "id": "pw0PJnCJZcdP"
      },
      "source": [
        "#### For a complex number, use .real and .imag to show the real and imaginary part respectively"
      ]
    },
    {
      "cell_type": "code",
      "execution_count": null,
      "metadata": {
        "id": "Sh6hBrWMZcdQ",
        "outputId": "65617df2-bda6-43ab-87c0-bc572a8aa8e2"
      },
      "outputs": [
        {
          "name": "stdout",
          "output_type": "stream",
          "text": [
            "5.0\n",
            "4.0\n"
          ]
        }
      ],
      "source": [
        "z=5+4*1j\n",
        "print(z.real)\n",
        "print(z.imag)"
      ]
    },
    {
      "cell_type": "markdown",
      "metadata": {
        "id": "HrWEbd2MZcdR"
      },
      "source": [
        "#### A very important type of structure in Python are lists:\n",
        "A list is a set of ordered elements. To define a list, put the elements in brackets $\\left[ \\right]$."
      ]
    },
    {
      "cell_type": "code",
      "execution_count": null,
      "metadata": {
        "id": "chqIX7O1ZcdR",
        "outputId": "3b083e1c-48ba-4a2f-bec9-0dfa7fabaca4"
      },
      "outputs": [
        {
          "name": "stdout",
          "output_type": "stream",
          "text": [
            "[2, 3, 5, 7, 11, 13, 17]\n",
            "[]\n",
            "[10]\n"
          ]
        }
      ],
      "source": [
        "#Here we define a list of prime numbers. The variable \"primes\" is not a number but a list!\n",
        "primes=[2,3,5,7,11,13,17]\n",
        "print(primes)\n",
        "\n",
        "#This is an empty list\n",
        "empty=[]\n",
        "print(empty)\n",
        "\n",
        "#This is a list with one element\n",
        "one_element=[10]\n",
        "print(one_element)"
      ]
    },
    {
      "cell_type": "code",
      "execution_count": null,
      "metadata": {
        "id": "KfwvrXbdZcdS",
        "outputId": "4c6b9dbc-696e-463a-a2fa-7747ca5c593d"
      },
      "outputs": [
        {
          "name": "stdout",
          "output_type": "stream",
          "text": [
            "[2, 3, 5, 7, 11, 13, 17, 19]\n",
            "8\n",
            "[2, 3, 5, 7, 11, 13, 17, 19, 23, 29, 31, 37]\n"
          ]
        }
      ],
      "source": [
        "#It is possible to add new elements using the + sign\n",
        "primes=primes+[19]\n",
        "print(primes)\n",
        "\n",
        "#To see the length of the list, use len()\n",
        "print(len(primes))\n",
        "\n",
        "#To merge two lists, just add them\n",
        "more_primes=[23,29,31,37]\n",
        "print(primes+more_primes)"
      ]
    },
    {
      "cell_type": "markdown",
      "metadata": {
        "id": "3udyrlZaZcdS"
      },
      "source": [
        "There are some built-in functions that create lists"
      ]
    },
    {
      "cell_type": "code",
      "execution_count": null,
      "metadata": {
        "id": "CXHYyXpiZcdT",
        "outputId": "a05b0332-22ce-4066-b155-9b7979e5bc5a"
      },
      "outputs": [
        {
          "name": "stdout",
          "output_type": "stream",
          "text": [
            "range(0, 10)\n",
            "range(5, 20)\n",
            "range(0, 20, 2)\n"
          ]
        }
      ],
      "source": [
        "#range() automatically creates a list of numbers. It has several variations. \n",
        "\n",
        "list_example_1 =range(10)\n",
        "print(list_example_1)\n",
        "\n",
        "list_example_2= range(5,20)\n",
        "print(list_example_2)\n",
        "\n",
        "list_example_3 = range(0,20,2)\n",
        "print(list_example_3)\n"
      ]
    },
    {
      "cell_type": "markdown",
      "metadata": {
        "id": "j58hzpF8ZcdT"
      },
      "source": [
        "### Writing a Python program. First things to know:\n",
        "A program is a list of instructions. The instructions read line by line and executed. \n",
        "Indentation matters: instructions that are have to be indented \n",
        "We have differet \"types\" of instructions: arithmetic operations, assignations, input/output, loops, functions and many more. \n",
        "If you have any question, ask Google!"
      ]
    },
    {
      "cell_type": "code",
      "execution_count": null,
      "metadata": {
        "id": "S3Ff_ADfZcdU",
        "outputId": "725d9897-35cb-41c5-ef53-ed98bd0b2355"
      },
      "outputs": [
        {
          "name": "stdout",
          "output_type": "stream",
          "text": [
            "Enter lower range: 3\n",
            "Enter upper range: 9\n",
            "3\n",
            "5\n",
            "7\n"
          ]
        }
      ],
      "source": [
        "#This is an example of a Python program. It is a program to find all the prime numbers in a certain number range. \n",
        "#Anything after a # is not \"part\" of the program\n",
        "\n",
        "# Take input from the user and assign the value to variables\n",
        "lower = int(input(\"Enter lower range: \"))\n",
        "upper = int(input(\"Enter upper range: \"))\n",
        "\n",
        "#For loop\n",
        "for num in range(lower,upper + 1):\n",
        "    #Conditional expression, checks if the number num is greater than 1\n",
        "    if num > 1:\n",
        "        #Assume it is prime\n",
        "        prime = True\n",
        "        #Another loop\n",
        "        for i in range(2,num):\n",
        "            #Another conditional to check if it has divisors\n",
        "            if (num % i) == 0:\n",
        "                prime = False\n",
        "                break\n",
        "        #If it is prime, output it\n",
        "        if prime:\n",
        "            print(num)"
      ]
    },
    {
      "cell_type": "markdown",
      "metadata": {
        "collapsed": true,
        "id": "XspBBX6tZcdU"
      },
      "source": [
        "## Functions, loops and conditional statements\n",
        "### Functions\n",
        "#### You can define functions using \"def\""
      ]
    },
    {
      "cell_type": "code",
      "execution_count": null,
      "metadata": {
        "id": "O6p736_QZcdV"
      },
      "outputs": [],
      "source": [
        "#f(z)=z^3\n",
        "def cube (z):\n",
        "    return z*z*z\n",
        "    \n",
        "#f(z)=1/z\n",
        "def inverse (z):\n",
        "    return 1./z\n",
        "    \n",
        "#f(z)=zi+(3-2i)z^2+z^3\n",
        "def polynomial (z):\n",
        "    return z**3+(3-2*1j)*(z**2)+z*1j\n",
        "        "
      ]
    },
    {
      "cell_type": "markdown",
      "metadata": {
        "id": "ocJHZt74ZcdV"
      },
      "source": [
        "#### Once defined, functions can be called any time\n",
        "To call a function, the input has to be in brackets $()$"
      ]
    },
    {
      "cell_type": "code",
      "execution_count": null,
      "metadata": {
        "id": "w1hl4mA1ZcdW",
        "outputId": "0f3c0246-ebea-448f-8e2c-8ac4043cebf0"
      },
      "outputs": [
        {
          "name": "stdout",
          "output_type": "stream",
          "text": [
            "(-478-621j) (0.023529411764705882-0.10588235294117647j) (-646-357j)\n"
          ]
        }
      ],
      "source": [
        "#assign to a the value of 2+9i\n",
        "a=2+9*1j\n",
        "#call the functions defined above with a as input\n",
        "print(cube(a), inverse(a), polynomial(a))"
      ]
    },
    {
      "cell_type": "markdown",
      "metadata": {
        "id": "j3kx3leqZcdW"
      },
      "source": [
        "#### A function can have more than one argument"
      ]
    },
    {
      "cell_type": "code",
      "execution_count": null,
      "metadata": {
        "id": "ogEEqzK8ZcdW"
      },
      "outputs": [],
      "source": [
        "def average (z,w):\n",
        "    return (z+w)/2"
      ]
    },
    {
      "cell_type": "markdown",
      "metadata": {
        "id": "dt4a81r2ZcdX"
      },
      "source": [
        "### Loops\n",
        "#### The 'for' loop\n",
        "It is possible to repeat the same indented block a certain ammount of times by using the instruction \"for\". T"
      ]
    },
    {
      "cell_type": "code",
      "execution_count": null,
      "metadata": {
        "id": "hzju84qdZcdX",
        "outputId": "4e48e543-6531-4019-c1d2-1f7d1608dd22"
      },
      "outputs": [
        {
          "name": "stdout",
          "output_type": "stream",
          "text": [
            "0\n",
            "1\n",
            "2\n",
            "3\n",
            "4\n",
            "5\n",
            "6\n",
            "7\n",
            "8\n",
            "9\n"
          ]
        }
      ],
      "source": [
        "#Print all numbers from 0 to 9\n",
        "#This repeats the instruction \"print i\" 10 times, for values of i from 0 to 9. \n",
        "for i in range(10):\n",
        "       print(i)"
      ]
    },
    {
      "cell_type": "code",
      "execution_count": null,
      "metadata": {
        "id": "yUzevrLjZcdY",
        "outputId": "d184381c-be76-4e9e-8736-0f6975148cce"
      },
      "outputs": [
        {
          "name": "stdout",
          "output_type": "stream",
          "text": [
            "45\n"
          ]
        }
      ],
      "source": [
        "# add all numbers from 0 to 9\n",
        "sum = 0\n",
        "for i in range(10):\n",
        "    sum = sum + i\n",
        "print(sum)"
      ]
    },
    {
      "cell_type": "code",
      "execution_count": null,
      "metadata": {
        "id": "twPBWshmZcdY",
        "outputId": "452a9991-758f-41fe-cba0-6e69f8d5e30d"
      },
      "outputs": [
        {
          "name": "stdout",
          "output_type": "stream",
          "text": [
            "This is an example\n",
            "Now a has the value: 1\n",
            "This is an example\n",
            "Now a has the value: 2\n",
            "This is an example\n",
            "Now a has the value: 5\n",
            "This is an example\n",
            "Now a has the value: 6\n",
            "This is an example\n",
            "Now a has the value: 8\n",
            "This is an example\n",
            "Now a has the value: 9\n"
          ]
        }
      ],
      "source": [
        "#Here 'a' takes values in the given list\n",
        "for a in [1,2,5,6,8,9]:\n",
        "    print(\"This is an example\")\n",
        "    print(\"Now a has the value:\", a)\n",
        "    "
      ]
    },
    {
      "cell_type": "markdown",
      "metadata": {
        "id": "pkAm-pPpZcda"
      },
      "source": [
        "### Conditional statements\n",
        "#### The conditional 'if/else'\n",
        "The instruction if checks if the given condition is true or false. If it is true, the indented block below is executed, if it is false, it is skipped."
      ]
    },
    {
      "cell_type": "code",
      "execution_count": null,
      "metadata": {
        "id": "gVq_rENFZcdb",
        "outputId": "47cb2a57-39ca-46f9-dd9a-414e795e8094"
      },
      "outputs": [
        {
          "name": "stdout",
          "output_type": "stream",
          "text": [
            "4\n",
            "4 is not equal to 3\n"
          ]
        }
      ],
      "source": [
        "#read input \n",
        "a=input()\n",
        "\n",
        "#check if the condition is true, this will be printed\n",
        "if a==3:\n",
        "    print(\"a is equal to 3\")\n",
        "\n",
        "#if it is false, then this will be printed\n",
        "else:\n",
        "    print(a,\"is not equal to 3\")\n",
        "    "
      ]
    },
    {
      "cell_type": "markdown",
      "metadata": {
        "id": "A1EaowqsZcde"
      },
      "source": [
        "Combining loops and conditional statements"
      ]
    },
    {
      "cell_type": "code",
      "execution_count": null,
      "metadata": {
        "id": "ANHT00s7Zcde",
        "outputId": "e410a49f-1aa3-4290-e188-afb9849795fa"
      },
      "outputs": [
        {
          "name": "stdout",
          "output_type": "stream",
          "text": [
            "20 is divisible by 1\n",
            "20 is divisible by 2\n",
            "20 is divisible by 4\n",
            "20 is divisible by 5\n",
            "20 is divisible by 10\n"
          ]
        }
      ],
      "source": [
        "a=20\n",
        "#for all numbers from 1 to 10, check if the remainder of 20 divided by that number is 0\n",
        "#in such case, print the number.\n",
        "for i in range(1,11):\n",
        "    if a%i==0:\n",
        "        print(a,\"is divisible by\",i)"
      ]
    },
    {
      "cell_type": "code",
      "execution_count": null,
      "metadata": {
        "collapsed": true,
        "id": "Yy7h-PJWZcdf"
      },
      "outputs": [],
      "source": [
        ""
      ]
    }
  ],
  "metadata": {
    "kernelspec": {
      "display_name": "Python 3",
      "language": "python",
      "name": "python3"
    },
    "language_info": {
      "codemirror_mode": {
        "name": "ipython",
        "version": 3
      },
      "file_extension": ".py",
      "mimetype": "text/x-python",
      "name": "python",
      "nbconvert_exporter": "python",
      "pygments_lexer": "ipython3",
      "version": "3.7.3"
    },
    "colab": {
      "name": "Introduction. Complex Numbers and Lists. .ipynb",
      "provenance": []
    }
  },
  "nbformat": 4,
  "nbformat_minor": 0
}