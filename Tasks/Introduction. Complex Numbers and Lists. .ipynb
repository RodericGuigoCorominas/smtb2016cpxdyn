{
 "cells": [
  {
   "cell_type": "markdown",
   "metadata": {},
   "source": [
    "# This is an iPython notebook\n",
    "#### You can use it as a calculator. Press Shift + Intro to execute each cell. "
   ]
  },
  {
   "cell_type": "code",
   "execution_count": 2,
   "metadata": {},
   "outputs": [
    {
     "data": {
      "text/plain": [
       "3"
      ]
     },
     "execution_count": 2,
     "metadata": {},
     "output_type": "execute_result"
    }
   ],
   "source": [
    "1+2"
   ]
  },
  {
   "cell_type": "code",
   "execution_count": 3,
   "metadata": {},
   "outputs": [
    {
     "data": {
      "text/plain": [
       "-7"
      ]
     },
     "execution_count": 3,
     "metadata": {},
     "output_type": "execute_result"
    }
   ],
   "source": [
    "3-10"
   ]
  },
  {
   "cell_type": "code",
   "execution_count": 4,
   "metadata": {},
   "outputs": [
    {
     "data": {
      "text/plain": [
       "12"
      ]
     },
     "execution_count": 4,
     "metadata": {},
     "output_type": "execute_result"
    }
   ],
   "source": [
    "3*4"
   ]
  },
  {
   "cell_type": "code",
   "execution_count": 5,
   "metadata": {},
   "outputs": [
    {
     "data": {
      "text/plain": [
       "0.5"
      ]
     },
     "execution_count": 5,
     "metadata": {},
     "output_type": "execute_result"
    }
   ],
   "source": [
    "4.0/8"
   ]
  },
  {
   "cell_type": "code",
   "execution_count": 6,
   "metadata": {},
   "outputs": [
    {
     "data": {
      "text/plain": [
       "64"
      ]
     },
     "execution_count": 6,
     "metadata": {},
     "output_type": "execute_result"
    }
   ],
   "source": [
    "4**3 #This takes 4 to the power 3"
   ]
  },
  {
   "cell_type": "code",
   "execution_count": null,
   "metadata": {},
   "outputs": [],
   "source": [
    "16**(0.5) #This takes the square root"
   ]
  },
  {
   "cell_type": "markdown",
   "metadata": {},
   "source": [
    "#### You can assign values to variables by using the equal sign \"=\""
   ]
  },
  {
   "cell_type": "code",
   "execution_count": 8,
   "metadata": {},
   "outputs": [
    {
     "name": "stdout",
     "output_type": "stream",
     "text": [
      "45\n",
      "14\n",
      "-4\n"
     ]
    }
   ],
   "source": [
    "a=5\n",
    "b=9\n",
    "#Now a has a value of 5 and b a value of 9. You can operate with a and b directly\n",
    "print(a*b)\n",
    "print(a+b)\n",
    "print(a-b)"
   ]
  },
  {
   "cell_type": "markdown",
   "metadata": {},
   "source": [
    "#### To work with complex numbers you have to use 1j instead of i:  <b> 2+3*1j </b>"
   ]
  },
  {
   "cell_type": "code",
   "execution_count": 9,
   "metadata": {},
   "outputs": [
    {
     "data": {
      "text/plain": [
       "(1.2+7j)"
      ]
     },
     "execution_count": 9,
     "metadata": {},
     "output_type": "execute_result"
    }
   ],
   "source": [
    "(1+3*1j) + (0.2+4*1j)"
   ]
  },
  {
   "cell_type": "code",
   "execution_count": 10,
   "metadata": {},
   "outputs": [
    {
     "data": {
      "text/plain": [
       "(-1+0j)"
      ]
     },
     "execution_count": 10,
     "metadata": {},
     "output_type": "execute_result"
    }
   ],
   "source": [
    "1j*1j #i^2=-1"
   ]
  },
  {
   "cell_type": "code",
   "execution_count": 11,
   "metadata": {},
   "outputs": [
    {
     "data": {
      "text/plain": [
       "(-1+5j)"
      ]
     },
     "execution_count": 11,
     "metadata": {},
     "output_type": "execute_result"
    }
   ],
   "source": [
    "(2+3*1j)*(1+1j)"
   ]
  },
  {
   "cell_type": "code",
   "execution_count": 12,
   "metadata": {},
   "outputs": [
    {
     "name": "stdout",
     "output_type": "stream",
     "text": [
      "(9+1j)\n",
      "(8+8j)\n",
      "(16+0j)\n"
     ]
    }
   ],
   "source": [
    "c=(1+1j)\n",
    "d=8\n",
    "print(c+d)\n",
    "print(c*d)\n",
    "print(c**d)"
   ]
  },
  {
   "cell_type": "markdown",
   "metadata": {},
   "source": [
    "#### For a complex number, use .real and .imag to show the real and imaginary part respectively"
   ]
  },
  {
   "cell_type": "code",
   "execution_count": 14,
   "metadata": {},
   "outputs": [
    {
     "name": "stdout",
     "output_type": "stream",
     "text": [
      "5.0\n",
      "4.0\n"
     ]
    }
   ],
   "source": [
    "z=5+4*1j\n",
    "print(z.real)\n",
    "print(z.imag)"
   ]
  },
  {
   "cell_type": "markdown",
   "metadata": {},
   "source": [
    "#### A very important type of structure in Python are lists:\n",
    "A list is a set of ordered elements. To define a list, put the elements in brackets $\\left[ \\right]$."
   ]
  },
  {
   "cell_type": "code",
   "execution_count": 18,
   "metadata": {},
   "outputs": [
    {
     "name": "stdout",
     "output_type": "stream",
     "text": [
      "[2, 3, 5, 7, 11, 13, 17]\n",
      "[]\n",
      "[10]\n"
     ]
    }
   ],
   "source": [
    "#Here we define a list of prime numbers. The variable \"primes\" is not a number but a list!\n",
    "primes=[2,3,5,7,11,13,17]\n",
    "print(primes)\n",
    "\n",
    "#This is an empty list\n",
    "empty=[]\n",
    "print(empty)\n",
    "\n",
    "#This is a list with one element\n",
    "one_element=[10]\n",
    "print(one_element)"
   ]
  },
  {
   "cell_type": "code",
   "execution_count": 19,
   "metadata": {},
   "outputs": [
    {
     "name": "stdout",
     "output_type": "stream",
     "text": [
      "[2, 3, 5, 7, 11, 13, 17, 19]\n",
      "8\n",
      "[2, 3, 5, 7, 11, 13, 17, 19, 23, 29, 31, 37]\n"
     ]
    }
   ],
   "source": [
    "#It is possible to add new elements using the + sign\n",
    "primes=primes+[19]\n",
    "print(primes)\n",
    "\n",
    "#To see the length of the list, use len()\n",
    "print(len(primes))\n",
    "\n",
    "#To merge two lists, just add them\n",
    "more_primes=[23,29,31,37]\n",
    "print(primes+more_primes)"
   ]
  },
  {
   "cell_type": "markdown",
   "metadata": {},
   "source": [
    "There are some built-in functions that create lists"
   ]
  },
  {
   "cell_type": "code",
   "execution_count": 20,
   "metadata": {},
   "outputs": [
    {
     "name": "stdout",
     "output_type": "stream",
     "text": [
      "range(0, 10)\n",
      "range(5, 20)\n",
      "range(0, 20, 2)\n"
     ]
    }
   ],
   "source": [
    "#range() automatically creates a list of numbers. It has several variations. \n",
    "\n",
    "list_example_1 =range(10)\n",
    "print(list_example_1)\n",
    "\n",
    "list_example_2= range(5,20)\n",
    "print(list_example_2)\n",
    "\n",
    "list_example_3 = range(0,20,2)\n",
    "print(list_example_3)\n"
   ]
  },
  {
   "cell_type": "markdown",
   "metadata": {},
   "source": [
    "### Writing a Python program. First things to know:\n",
    "A program is a list of instructions. The instructions read line by line and executed. \n",
    "Indentation matters: instructions that are have to be indented \n",
    "We have differet \"types\" of instructions: arithmetic operations, assignations, input/output, loops, functions and many more. \n",
    "If you have any question, ask Google!"
   ]
  },
  {
   "cell_type": "code",
   "execution_count": 3,
   "metadata": {},
   "outputs": [
    {
     "name": "stdout",
     "output_type": "stream",
     "text": [
      "Enter lower range: 3\n",
      "Enter upper range: 9\n",
      "3\n",
      "5\n",
      "7\n"
     ]
    }
   ],
   "source": [
    "#This is an example of a Python program. It is a program to find all the prime numbers in a certain number range. \n",
    "#Anything after a # is not \"part\" of the program\n",
    "\n",
    "# Take input from the user and assign the value to variables\n",
    "lower = int(input(\"Enter lower range: \"))\n",
    "upper = int(input(\"Enter upper range: \"))\n",
    "\n",
    "#For loop\n",
    "for num in range(lower,upper + 1):\n",
    "    #Conditional expression, checks if the number num is greater than 1\n",
    "    if num > 1:\n",
    "        #Assume it is prime\n",
    "        prime = True\n",
    "        #Another loop\n",
    "        for i in range(2,num):\n",
    "            #Another conditional to check if it has divisors\n",
    "            if (num % i) == 0:\n",
    "                prime = False\n",
    "                break\n",
    "        #If it is prime, output it\n",
    "        if prime:\n",
    "            print(num)"
   ]
  },
  {
   "cell_type": "markdown",
   "metadata": {
    "collapsed": true
   },
   "source": [
    "## Functions, loops and conditional statements\n",
    "### Functions\n",
    "#### You can define functions using \"def\""
   ]
  },
  {
   "cell_type": "code",
   "execution_count": 23,
   "metadata": {},
   "outputs": [],
   "source": [
    "#f(z)=z^3\n",
    "def cube (z):\n",
    "    return z*z*z\n",
    "    \n",
    "#f(z)=1/z\n",
    "def inverse (z):\n",
    "    return 1./z\n",
    "    \n",
    "#f(z)=zi+(3-2i)z^2+z^3\n",
    "def polynomial (z):\n",
    "    return z**3+(3-2*1j)*(z**2)+z*1j\n",
    "        "
   ]
  },
  {
   "cell_type": "markdown",
   "metadata": {},
   "source": [
    "#### Once defined, functions can be called any time\n",
    "To call a function, the input has to be in brackets $()$"
   ]
  },
  {
   "cell_type": "code",
   "execution_count": 24,
   "metadata": {},
   "outputs": [
    {
     "name": "stdout",
     "output_type": "stream",
     "text": [
      "(-478-621j) (0.023529411764705882-0.10588235294117647j) (-646-357j)\n"
     ]
    }
   ],
   "source": [
    "#assign to a the value of 2+9i\n",
    "a=2+9*1j\n",
    "#call the functions defined above with a as input\n",
    "print(cube(a), inverse(a), polynomial(a))"
   ]
  },
  {
   "cell_type": "markdown",
   "metadata": {},
   "source": [
    "#### A function can have more than one argument"
   ]
  },
  {
   "cell_type": "code",
   "execution_count": 25,
   "metadata": {},
   "outputs": [],
   "source": [
    "def average (z,w):\n",
    "    return (z+w)/2"
   ]
  },
  {
   "cell_type": "markdown",
   "metadata": {},
   "source": [
    "### Loops\n",
    "#### The 'for' loop\n",
    "It is possible to repeat the same indented block a certain ammount of times by using the instruction \"for\". T"
   ]
  },
  {
   "cell_type": "code",
   "execution_count": 26,
   "metadata": {},
   "outputs": [
    {
     "name": "stdout",
     "output_type": "stream",
     "text": [
      "0\n",
      "1\n",
      "2\n",
      "3\n",
      "4\n",
      "5\n",
      "6\n",
      "7\n",
      "8\n",
      "9\n"
     ]
    }
   ],
   "source": [
    "#Print all numbers from 0 to 9\n",
    "#This repeats the instruction \"print i\" 10 times, for values of i from 0 to 9. \n",
    "for i in range(10):\n",
    "       print(i)"
   ]
  },
  {
   "cell_type": "code",
   "execution_count": 27,
   "metadata": {},
   "outputs": [
    {
     "name": "stdout",
     "output_type": "stream",
     "text": [
      "45\n"
     ]
    }
   ],
   "source": [
    "#Add all numbers from 0 to 9\n",
    "sum=0\n",
    "for i in range(10):\n",
    "    sum=sum+i\n",
    "print(sum)"
   ]
  },
  {
   "cell_type": "code",
   "execution_count": 28,
   "metadata": {},
   "outputs": [
    {
     "name": "stdout",
     "output_type": "stream",
     "text": [
      "This is an example\n",
      "Now a has the value: 1\n",
      "This is an example\n",
      "Now a has the value: 2\n",
      "This is an example\n",
      "Now a has the value: 5\n",
      "This is an example\n",
      "Now a has the value: 6\n",
      "This is an example\n",
      "Now a has the value: 8\n",
      "This is an example\n",
      "Now a has the value: 9\n"
     ]
    }
   ],
   "source": [
    "#Here 'a' takes values in the given list\n",
    "for a in [1,2,5,6,8,9]:\n",
    "    print(\"This is an example\")\n",
    "    print(\"Now a has the value:\", a)\n",
    "    "
   ]
  },
  {
   "cell_type": "markdown",
   "metadata": {},
   "source": [
    "### Conditional statements\n",
    "#### The conditional 'if/else'\n",
    "The instruction if checks if the given condition is true or false. If it is true, the indented block below is executed, if it is false, it is skipped."
   ]
  },
  {
   "cell_type": "code",
   "execution_count": 30,
   "metadata": {},
   "outputs": [
    {
     "name": "stdout",
     "output_type": "stream",
     "text": [
      "4\n",
      "4 is not equal to 3\n"
     ]
    }
   ],
   "source": [
    "#read input \n",
    "a=input()\n",
    "\n",
    "#check if the condition is true, this will be printed\n",
    "if a==3:\n",
    "    print(\"a is equal to 3\")\n",
    "\n",
    "#if it is false, then this will be printed\n",
    "else:\n",
    "    print(a,\"is not equal to 3\")\n",
    "    "
   ]
  },
  {
   "cell_type": "markdown",
   "metadata": {},
   "source": [
    "Combining loops and conditional statements"
   ]
  },
  {
   "cell_type": "code",
   "execution_count": 31,
   "metadata": {},
   "outputs": [
    {
     "name": "stdout",
     "output_type": "stream",
     "text": [
      "20 is divisible by 1\n",
      "20 is divisible by 2\n",
      "20 is divisible by 4\n",
      "20 is divisible by 5\n",
      "20 is divisible by 10\n"
     ]
    }
   ],
   "source": [
    "a=20\n",
    "#for all numbers from 1 to 10, check is the remainder of 20 divided by that number is 0\n",
    "#in such case, print the number.\n",
    "for i in range(1,11):\n",
    "    if a%i==0:\n",
    "        print(a,\"is divisible by\",i)"
   ]
  },
  {
   "cell_type": "code",
   "execution_count": null,
   "metadata": {
    "collapsed": true
   },
   "outputs": [],
   "source": []
  }
 ],
 "metadata": {
  "kernelspec": {
   "display_name": "Python 3",
   "language": "python",
   "name": "python3"
  },
  "language_info": {
   "codemirror_mode": {
    "name": "ipython",
    "version": 3
   },
   "file_extension": ".py",
   "mimetype": "text/x-python",
   "name": "python",
   "nbconvert_exporter": "python",
   "pygments_lexer": "ipython3",
   "version": "3.7.3"
  }
 },
 "nbformat": 4,
 "nbformat_minor": 1
}
