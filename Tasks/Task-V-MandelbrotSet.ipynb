{
 "cells": [
  {
   "cell_type": "markdown",
   "metadata": {},
   "source": [
    "# Task V: The Mandelbrot set\n",
    "\n",
    "We already know that the Julia set of a polynomial of the type $f(z)=z^2+c$ can have different Julia sets dependng on thev alue of $c$. Last lecture we saw that for a polynomial $f(z)=z^2+c$, having a <b>connected</b> Julia set was equivalent to the <b>orbit of 0 being bounded</b>.\n",
    "\n",
    "\n",
    "The Mandelbrot set is the set of complex numbers $c$ such that the polynomial $f(z)=z^2+c$ has a connected Julia set, or the same, the orbit of 0 is bounded. In this task we will draw the Mandelbrot set. To do so we will use a similar algorithm to the one we used for the Julia sets. We limit he region of the complex plane from -2 to 1 and -1.5 to 1.5. \n",
    "\n",
    "Write a function $\\tt iszerobounded(c)$ that returns 1 if the orbit of 0 of the polynomial $f(z)=z^2+c$ is bounded and returns 0 otherwise."
   ]
  },
  {
   "cell_type": "code",
   "execution_count": null,
   "metadata": {
    "collapsed": true
   },
   "outputs": [],
   "source": [
    "#do your work here"
   ]
  },
  {
   "cell_type": "markdown",
   "metadata": {},
   "source": [
    "To define a picture of $\\tt 1024x1024$ pixels, we need to import the package Pillow and run the following commands:"
   ]
  },
  {
   "cell_type": "code",
   "execution_count": 1,
   "metadata": {},
   "outputs": [],
   "source": [
    "from PIL import Image\n",
    "Mandelbrot=Image.new(\"RGB\", (1024, 1024))"
   ]
  },
  {
   "cell_type": "markdown",
   "metadata": {},
   "source": [
    "Loop along all the pixels in the image anf color each one accordingly. \n",
    "Hint: Look at Task II"
   ]
  },
  {
   "cell_type": "code",
   "execution_count": 2,
   "metadata": {},
   "outputs": [],
   "source": [
    "\n",
    "xa = -2.0\n",
    "xb = 1.0\n",
    "ya = -1.5\n",
    "yb = 1.5\n",
    "maxIt = 255 \n",
    "imgx = 1024\n",
    "imgy = 1024\n",
    "\n",
    "image = Image.new(\"RGB\", (imgx, imgy))\n",
    "for y in range(imgy):\n",
    "    zy = y * (yb - ya) / (imgy - 1)  + ya\n",
    "    for x in range(imgx):\n",
    "        zx = x * (xb - xa) / (imgx - 1)  + xa\n",
    "        z = zx + zy * 1j\n",
    "        c = z\n",
    "        for i in range(maxIt):\n",
    "            if abs(z) > 2.0: \n",
    "                break \n",
    "            z = z * z + c\n",
    "        image.putpixel((x, y), (i % 4 * 64, i % 8 * 32, i % 8 * 16))\n",
    "\n",
    "\n",
    "image.show()\n",
    "#image.save(\"mandel.png\", \"PNG\")\n"
   ]
  },
  {
   "cell_type": "code",
   "execution_count": null,
   "metadata": {
    "collapsed": true
   },
   "outputs": [],
   "source": []
  }
 ],
 "metadata": {
  "kernelspec": {
   "display_name": "Python 3",
   "language": "python",
   "name": "python3"
  },
  "language_info": {
   "codemirror_mode": {
    "name": "ipython",
    "version": 3
   },
   "file_extension": ".py",
   "mimetype": "text/x-python",
   "name": "python",
   "nbconvert_exporter": "python",
   "pygments_lexer": "ipython3",
   "version": "3.7.3"
  }
 },
 "nbformat": 4,
 "nbformat_minor": 1
}
