{
 "cells": [
  {
   "cell_type": "markdown",
   "metadata": {},
   "source": [
    "# Task III: The inverse iteration method. Visualizing Julia Sets\n",
    "\n",
    "Consider now the dynamical system $f(z)=z^2-0.75$. We already know how the filled Julia Set looks like. Let's compute the Julia Set by the inverse iteration method. The alrgorithm will be the following:\n",
    "- Start with the point $z=1+i$.\n",
    "- Compute 1000 backward iterations of $z$ by recursively applying the inverse function $f^{-1}$. \n",
    "- Store all the points in a list\n",
    "- Use the defined function in Task I to produce the plot. \n",
    "\n",
    "Note: The inverse function of $f(z)$ is $f^{-1}(z)=\\sqrt{z+0.75}$. We already know that any complex number has 2 square roots! Solution: Choose one at random. To generate a random number that takes as values 0 or 1 use the following:"
   ]
  },
  {
   "cell_type": "code",
   "execution_count": 2,
   "metadata": {},
   "outputs": [
    {
     "name": "stdout",
     "output_type": "stream",
     "text": [
      "1\n"
     ]
    }
   ],
   "source": [
    "from random import randint\n",
    "random_number=randint(0,1)\n",
    "print(random_number)"
   ]
  },
  {
   "cell_type": "markdown",
   "metadata": {},
   "source": [
    "This is the function for plotting a list of complex numbers"
   ]
  },
  {
   "cell_type": "code",
   "execution_count": 5,
   "metadata": {},
   "outputs": [],
   "source": [
    "import matplotlib.pyplot as plt\n",
    "%matplotlib inline\n",
    "\n",
    "def plot_list (list_complex):\n",
    "    width = 10\n",
    "    height = 10\n",
    "    plt.figure(figsize=(width, height))\n",
    "    plt.plot([z.real for z in list_complex], [z.imag for z in list_complex],'ro')\n",
    "    plt.axis([-4.1, 4.1, -4.1, 4.1])\n",
    "    plt.show()"
   ]
  },
  {
   "cell_type": "code",
   "execution_count": 6,
   "metadata": {},
   "outputs": [
    {
     "data": {
      "image/png": "[encoded data removed]",
      "text/plain": [
       "<Figure size 720x720 with 1 Axes>"
      ]
     },
     "metadata": {
      "needs_background": "light"
     },
     "output_type": "display_data"
    }
   ],
   "source": [
    "###Do your work here\n",
    "def func(z):\n",
    "    return z*z-0.75\n",
    "\n",
    "def invfunct(z):\n",
    "    a=randint(0,1)\n",
    "    if a==0:\n",
    "        return (z+0.75)**0.5\n",
    "    else:\n",
    "        return -(z+0.75)**0.5\n",
    "    \n",
    "z=1+1j\n",
    "l=[z]\n",
    "for i in range(200000):\n",
    "    z=invfunct(z)\n",
    "    l=l+[z]\n",
    "plot_list(l)"
   ]
  },
  {
   "cell_type": "markdown",
   "metadata": {},
   "source": [
    "Try it with different poynomials"
   ]
  },
  {
   "cell_type": "code",
   "execution_count": 9,
   "metadata": {
    "collapsed": true
   },
   "outputs": [],
   "source": [
    "###"
   ]
  }
 ],
 "metadata": {
  "kernelspec": {
   "display_name": "Python 3",
   "language": "python",
   "name": "python3"
  },
  "language_info": {
   "codemirror_mode": {
    "name": "ipython",
    "version": 3
   },
   "file_extension": ".py",
   "mimetype": "text/x-python",
   "name": "python",
   "nbconvert_exporter": "python",
   "pygments_lexer": "ipython3",
   "version": "3.7.3"
  }
 },
 "nbformat": 4,
 "nbformat_minor": 1
}
