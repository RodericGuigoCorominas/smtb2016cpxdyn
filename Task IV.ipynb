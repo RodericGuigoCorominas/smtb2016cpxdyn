{
 "cells": [
  {
   "cell_type": "markdown",
   "metadata": {},
   "source": [
    "# Task IV: The fundamental dichotomy. \n",
    "\n",
    "We have just seen that to know if the Julia set of a polynomial of the type $f(z)=z^2+c$ is connected <b>or</b> a totally disconned Cantor set it suffices to check if the orbit of $0$ converges or diverges.\n",
    "\n",
    "Write a function $\\tt juliatype(c)$ that takes as input a complex number $c$, and prints the words \"Connected\" or \"Cantor Set\" corresponding to the type of Julia Set of the polynomial $f(z)=z^2+c$. To do so, iterate 50 times starting from 0 and check if the orbit diverges or stays bounded. Consider that if the modulus is greater than 10 at some iteration, the orbit diverges. "
   ]
  },
  {
   "cell_type": "code",
   "execution_count": 3,
   "metadata": {},
   "outputs": [],
   "source": [
    "#Solved\n",
    "def juliatype(c):\n",
    "    def f(z):\n",
    "        return z*z + c\n",
    "    z=0*1j\n",
    "\n",
    "    for i in range(50):\n",
    "        z = f(z)\n",
    "        if abs(z) > 10:\n",
    "            print(\"Disconnected Cantor Set\")\n",
    "            return\n",
    "        \n",
    "    print(\"Connected Set\")\n",
    "    return"
   ]
  }
 ],
 "metadata": {
  "kernelspec": {
   "display_name": "Python 3",
   "language": "python",
   "name": "python3"
  },
  "language_info": {
   "codemirror_mode": {
    "name": "ipython",
    "version": 3
   },
   "file_extension": ".py",
   "mimetype": "text/x-python",
   "name": "python",
   "nbconvert_exporter": "python",
   "pygments_lexer": "ipython3",
   "version": "3.7.3"
  }
 },
 "nbformat": 4,
 "nbformat_minor": 1
}
