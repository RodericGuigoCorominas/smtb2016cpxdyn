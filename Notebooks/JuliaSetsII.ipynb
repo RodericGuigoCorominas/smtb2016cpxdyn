{
 "cells": [
  {
   "cell_type": "code",
   "execution_count": 1,
   "metadata": {},
   "outputs": [],
   "source": [
    "from PIL import Image\n",
    "from matplotlib.pyplot import imshow\n",
    "import numpy as np\n",
    "%matplotlib inline "
   ]
  },
  {
   "cell_type": "markdown",
   "metadata": {},
   "source": [
    "# Filled Julia sets of polynomials"
   ]
  },
  {
   "cell_type": "code",
   "execution_count": 2,
   "metadata": {},
   "outputs": [],
   "source": [
    "#function to read polynomials\n",
    "def poly (p):\n",
    "    raw_input(\"Introduce a polynomial function:\")\n"
   ]
  },
  {
   "cell_type": "code",
   "execution_count": 3,
   "metadata": {},
   "outputs": [],
   "source": [
    "def julia1(z):\n",
    "    return z*z+1.0-1.61803398875\n",
    "\n",
    "def julia2(z):\n",
    "    return (z*z+0.2+0.4j)\n",
    "\n",
    "def julia3(z):\n",
    "    return z*z-z+2\n",
    "\n",
    "def julia4(z):\n",
    "    return z**3+z-0.2\n",
    "\n",
    "def julia5(z):\n",
    "    return z**2-1.2-0.15j\n",
    "\n",
    "def julia6(z):\n",
    "    return z**2-0.8-0.15j\n",
    "\n",
    "def julia_general(a,b,c,d,e,f,g,h,z):\n",
    "    return (a+b*1j)*z**3+(c+d*1j)*z**2+(e+f*1j)*z+h+z*1j"
   ]
  },
  {
   "cell_type": "code",
   "execution_count": 4,
   "metadata": {},
   "outputs": [],
   "source": [
    "###Do your work here\n",
    "def isbounded(function,z):\n",
    "    for i in range(50):\n",
    "        z=function(z)\n",
    "        if abs(z)>2:\n",
    "            return int(float(i)/100*255)\n",
    "    return 255\n",
    "\n",
    "\n",
    "\n",
    "\n",
    "\n",
    "def plot_julia(polynomial,size):\n",
    "    Juliaset=Image.new(\"RGB\", (size, size))\n",
    "    x=-2.0\n",
    "    y=-1.5\n",
    "    xvar=4./(size-1)\n",
    "    yvar=3./(size-1)\n",
    "    for i in range(size):\n",
    "        x=-2+i*xvar\n",
    "        for j in range(size):\n",
    "            y=-1.5+j*yvar\n",
    "            z=x+y*1j\n",
    "            color=isbounded(polynomial,z)\n",
    "            Juliaset.putpixel((i,size-1-j),(255-int(color)/255 * 255 ,255-int(color)/255 * 255 ,  255-int(color)/255 * 255))\n",
    "    return Juliaset\n",
    "\n",
    "def plot_julia_time(polynomial,size):\n",
    "    Juliaset=Image.new(\"RGB\", (size, size))\n",
    "    x=-2.0\n",
    "    y=-1.5\n",
    "    xvar=4./(size-1)\n",
    "    yvar=3./(size-1)\n",
    "    for i in range(size):\n",
    "        x=-2+i*xvar\n",
    "        for j in range(size):\n",
    "            y=-1.5+j*yvar\n",
    "            z=x+y*1j\n",
    "            color=isbounded(polynomial,z)\n",
    "            Juliaset.putpixel((i,size-1-j),(((color +1)% 4) * 16, ((color+1) % 8) * 32, ((color+1) % 16) * 16))\n",
    "    return Juliaset\n",
    "            \n",
    "#Juliaset.show()\n",
    "#Juliaset.save(str(polynomial).split(\" \")[1]+\"_time.png\",\"PNG\")"
   ]
  },
  {
   "cell_type": "code",
   "execution_count": null,
   "metadata": {},
   "outputs": [],
   "source": []
  },
  {
   "cell_type": "code",
   "execution_count": 5,
   "metadata": {},
   "outputs": [
    {
     "data": {
      "text/plain": [
       "<matplotlib.image.AxesImage at 0x11a083cf8>"
      ]
     },
     "execution_count": 5,
     "metadata": {},
     "output_type": "execute_result"
    },
    {
     "data": {
      "image/png": "[encoded data removed]",
      "text/plain": [
       "<Figure size 432x288 with 1 Axes>"
      ]
     },
     "metadata": {
      "needs_background": "light"
     },
     "output_type": "display_data"
    }
   ],
   "source": [
    "im = Image.new(\"RGB\", (3, 1))\n",
    "im.putpixel((0, 0), (255, 0, 0))\n",
    "im.putpixel((1, 0), (0, 255, 0))\n",
    "im.putpixel((2, 0), (0, 0, 255))\n",
    "imshow(im)"
   ]
  },
  {
   "cell_type": "code",
   "execution_count": null,
   "metadata": {},
   "outputs": [],
   "source": []
  },
  {
   "cell_type": "code",
   "execution_count": null,
   "metadata": {},
   "outputs": [],
   "source": []
  },
  {
   "cell_type": "code",
   "execution_count": 7,
   "metadata": {},
   "outputs": [],
   "source": [
    "def julia_set_poly(a,b,c,d,e,f,g,h,size):\n",
    "    def function(z):\n",
    "        return (a+b*1j)*z**3+(c+d*1j)*z**2+(e+f*1j)*z+g+h*1j\n",
    "    return plot_julia_time(function,size)\n",
    "\n",
    "def show_julia_set_poly(a,b,c,d,e,f,g,h,size):\n",
    "    figure=julia_set_poly(a,b,c,d,e,f,g,h,size)\n",
    "    imshow(figure)\n",
    "    \n",
    "def f(x):\n",
    "    show_julia_set_poly(0,0,1,0,0,0,x,0,256)"
   ]
  },
  {
   "cell_type": "code",
   "execution_count": null,
   "metadata": {},
   "outputs": [],
   "source": []
  },
  {
   "cell_type": "code",
   "execution_count": null,
   "metadata": {},
   "outputs": [],
   "source": []
  },
  {
   "cell_type": "code",
   "execution_count": 8,
   "metadata": {},
   "outputs": [
    {
     "data": {
      "application/vnd.jupyter.widget-view+json": {
       "model_id": "10774c7bdac94b7480bad73d6d60c493",
       "version_major": 2,
       "version_minor": 0
      },
      "text/plain": [
       "interactive(children=(FloatSlider(value=0.0, description='x', max=1.0, min=-1.0, step=0.01), Output()), _dom_c…"
      ]
     },
     "metadata": {},
     "output_type": "display_data"
    },
    {
     "data": {
      "text/plain": [
       "<function __main__.f(x)>"
      ]
     },
     "execution_count": 8,
     "metadata": {},
     "output_type": "execute_result"
    }
   ],
   "source": [
    "from ipywidgets import widgets\n",
    "widgets.interact(f,x=(-1,1,0.01))"
   ]
  },
  {
   "cell_type": "code",
   "execution_count": null,
   "metadata": {
    "collapsed": true
   },
   "outputs": [],
   "source": []
  }
 ],
 "metadata": {
  "kernelspec": {
   "display_name": "Python 3",
   "language": "python",
   "name": "python3"
  },
  "language_info": {
   "codemirror_mode": {
    "name": "ipython",
    "version": 3
   },
   "file_extension": ".py",
   "mimetype": "text/x-python",
   "name": "python",
   "nbconvert_exporter": "python",
   "pygments_lexer": "ipython3",
   "version": "3.7.3"
  },
  "widgets": {
   "state": {
    "9a7c6447048f4ef8b009cc3323cd469f": {
     "views": [
      {
       "cell_index": 12
      }
     ]
    }
   },
   "version": "1.2.0"
  }
 },
 "nbformat": 4,
 "nbformat_minor": 1
}
