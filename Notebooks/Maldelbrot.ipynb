{
 "cells": [
  {
   "cell_type": "code",
   "execution_count": 1,
   "metadata": {
    "collapsed": true
   },
   "outputs": [],
   "source": [
    "from PIL import Image\n",
    "\n",
    "xa = -2.0\n",
    "xb = 1.0\n",
    "ya = -1.5\n",
    "yb = 1.5\n",
    "maxIt = 255 \n",
    "imgx = 1024\n",
    "imgy = 1024\n",
    "\n",
    "image = Image.new(\"RGB\", (imgx, imgy))\n",
    "for y in range(imgy):\n",
    "    zy = y * (yb - ya) / (imgy - 1)  + ya\n",
    "    for x in range(imgx):\n",
    "        zx = x * (xb - xa) / (imgx - 1)  + xa\n",
    "        z = zx + zy * 1j\n",
    "        c = z\n",
    "        for i in range(maxIt):\n",
    "            if abs(z) > 2.0: \n",
    "                break \n",
    "            z = z * z + c\n",
    "        image.putpixel((x, y), (i % 4 * 64, i % 8 * 32, i % 8 * 16))\n",
    "\n",
    "image.save(\"mandel.png\", \"PNG\")\n"
   ]
  },
  {
   "cell_type": "code",
   "execution_count": null,
   "metadata": {
    "collapsed": true
   },
   "outputs": [],
   "source": []
  }
 ],
 "metadata": {
  "kernelspec": {
   "display_name": "Python 2",
   "language": "python",
   "name": "python2"
  },
  "language_info": {
   "codemirror_mode": {
    "name": "ipython",
    "version": 2
   },
   "file_extension": ".py",
   "mimetype": "text/x-python",
   "name": "python",
   "nbconvert_exporter": "python",
   "pygments_lexer": "ipython2",
   "version": "2.7.12"
  }
 },
 "nbformat": 4,
 "nbformat_minor": 0
}
