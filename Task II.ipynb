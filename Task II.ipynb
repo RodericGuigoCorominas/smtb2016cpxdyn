{
 "cells": [
  {
   "cell_type": "markdown",
   "metadata": {},
   "source": [
    "# Task II\n",
    "## Bounded orbits: The filled Julia set of a polynomial\n",
    "Given an holomorphic function $f(z)$, we say that the orbit of a point $z$ is bounded if the modulus of the elements of the orbit doesn't grow arbitrarily large. \n",
    "\n",
    "#### Example\n",
    "In the \"easy\" case $f(z)=z^2$, the orbits of $i$ and $2$ are\n",
    "$$O_i=\\left\\{i,-1,1,1,1,\\ldots\\right\\}$$\n",
    "and \n",
    "$$O_2=\\left\\{2,4,16,256,\\ldots \\right\\}$$\n",
    "respectively. In the first case, the elements of the orbit have all modulus 1, so we say that the orbit is bounded. On the other hand, the numbers grow arbitrarely large, so the orbit of 2 is not bounded. \n",
    "\n",
    "If $\\tt z$ is a complex number, its modulus is given by the python function $\\tt abs()$:"
   ]
  },
  {
   "cell_type": "code",
   "execution_count": 1,
   "metadata": {},
   "outputs": [
    {
     "name": "stdout",
     "output_type": "stream",
     "text": [
      "3.605551275463989\n"
     ]
    }
   ],
   "source": [
    "a=3+2j\n",
    "print(abs(a))"
   ]
  },
  {
   "cell_type": "markdown",
   "metadata": {},
   "source": [
    "For a given polynomial, we define the $\\textbf{ Filled Julia set}$ as the set of all points that have orbits that do not escapte to $\\infty$, i.e., they are $\\bf bounded$.\n",
    "Filled Julia sets exibit interesting shapes and behaviors that are worth looking at. Today you will try to produce the image of the filled Julia set of a certain polynomial.  "
   ]
  },
  {
   "cell_type": "markdown",
   "metadata": {},
   "source": [
    "### The dynamical system $f(z)=z^2+1-\\phi$"
   ]
  },
  {
   "cell_type": "markdown",
   "metadata": {},
   "source": [
    "#### Exercise I: Bounded or diverging orbits\n",
    "Suppose that our dynamical system is given by the function $f(z)=z^2+1-\\phi$, where $\\phi$ is the Golden Ratio $\\phi=1.61803398875$.\n",
    "Checking if an orbit is bounded can be tricky. There are two main issues:\n",
    "- We can't compute all the elements of the orbit, since there are usually infinitely many.   \n",
    "- We can't assure that the modulus is going to keep growing forever and it will not eventually stay bounded. \n",
    "\n",
    "To solve this, we will assume the following:\n",
    "- We will only check the first 200 iterations. \n",
    "- If, when calculating each iteration, we obtain a number with modulus greater than 10, we will assume that the orbit is not bounded. \n",
    "\n",
    "Create a python function called $\\tt isbounded(z)$ that takes as input a complex number and:\n",
    "- returns 1 if the orbit is bounded (according to our criteria).\n",
    "- returns 0 otherwise.\n",
    "\n",
    "(Hint: Create a loop that, starting with the input number, calculates iterations until the 200th. For each next calculated number, calculate its modulus, and use the conditional $\\tt if$ to check if it is greater than 10. In such case, return the value 0. If, when the loop finishes, the modulus has never grown bigger than 10, return 1.)"
   ]
  },
  {
   "cell_type": "code",
   "execution_count": 2,
   "metadata": {},
   "outputs": [],
   "source": [
    "###Do your work here\n",
    "def isbounded(z):\n",
    "    for i in range(255):\n",
    "        z=z*z+1.0-1.61803398875\n",
    "        if abs(z)>10:\n",
    "            return 0\n",
    "    return 1"
   ]
  },
  {
   "cell_type": "code",
   "execution_count": 4,
   "metadata": {},
   "outputs": [
    {
     "name": "stdout",
     "output_type": "stream",
     "text": [
      "1\n",
      "0\n",
      "0\n"
     ]
    }
   ],
   "source": [
    "###Try if it works!\n",
    "print(isbounded(0))\n",
    "print(isbounded(1-1j/2))\n",
    "print(isbounded(10))"
   ]
  },
  {
   "cell_type": "markdown",
   "metadata": {},
   "source": [
    "#### Exercise II: Iterating the process for all (many) points in a region. \n"
   ]
  },
  {
   "cell_type": "markdown",
   "metadata": {
    "collapsed": true
   },
   "source": [
    "Another limitation to our method is that it is impossible to study all the points in the complex plane $\\mathbb{C}$ individually. The first thing to do is to choose a particular region. We can choose, for example, the region of complex numbers with real part from -2 to 2 and imaginay part form -1.5 to 1.5. This is still not enough, since there still will be infinitely many complex numbers in $\\bf any$ region we choose!!! To solve this, we will only take finitely many points distributed in a grid of $\\tt 1024x1024$ from -2 to 2 and -1.5 to 1-5.\n",
    "\n",
    "(Hint: Create a $\\tt for$ loop that takes 1024 values equally distributed from -1.5 to 1.5 inside a $\\tt for$ loop that takes 1024 values equally distributed from -2 to 2. Then, for each point, apply the function you defined in Ex.I to check if it has a bounded orbit or not)."
   ]
  },
  {
   "cell_type": "code",
   "execution_count": 5,
   "metadata": {
    "collapsed": true
   },
   "outputs": [],
   "source": [
    "###Do your work here "
   ]
  },
  {
   "cell_type": "markdown",
   "metadata": {},
   "source": [
    "#### Exercise III: Coloring pixels & Plotting the Filled Julia Set of $f(z)=z^2+1-\\phi$\n",
    "\n",
    "A way to visualize our complex system is by coloring points in the complex plane according to their properties. Once we undestand how to check if an orbit is bounded, the next step is to desing a way to color our image. For all of the starting points that we calculated in Ex.II, we will color it black if the orbit is bounded, and white if the orbit is not bounded. This will produce a cool picture. \n",
    "\n",
    "To do this, we can use the python package $\\tt matplotlib$. Python prebuilt packages can be imported using $\\tt import$. "
   ]
  },
  {
   "cell_type": "code",
   "execution_count": 5,
   "metadata": {},
   "outputs": [],
   "source": [
    "#Importing the library allows you to use all the built-in functions that it contains\n",
    "import matplotlib.pyplot as plt\n",
    "from PIL import Image\n",
    "import numpy as np\n",
    "\n",
    "#This command shows the plots inline\n",
    "%matplotlib inline\n",
    "\n",
    "# You can define an image of 1024x1024 pixels with the following command\n",
    "# Juliaset=Image.new(\"RGB\", (imgx, imgy))\n",
    "\n",
    "# The coloring of the pixels has to be done individually. For example, this colors the pixel 234x200 in black:\n",
    "# Juliaset.putpixel((234, 200), (0, 0, 0))\n",
    "# And this, in white:\n",
    "# Juliaset.putpixel((234, 200), (255, 255, 255))\n",
    "\n",
    "# To see/save the picture, use the following\n",
    "# Juliaset.save(str(julia1).split(\" \")[1]+\".png\",\"PNG\")\n",
    "# Juliaset.show()"
   ]
  },
  {
   "cell_type": "code",
   "execution_count": 6,
   "metadata": {},
   "outputs": [],
   "source": [
    "x = -2.0\n",
    "y = -1.5\n",
    "xvar = 4./1023\n",
    "yvar = 3./1023\n",
    "z = x + y*1j\n",
    "\n",
    "Juliaset = Image.new(\"RGB\", (1024, 1024))\n",
    "\n",
    "for i in range(1024):\n",
    "    x = -2+i*xvar\n",
    "    for j in range(1024):\n",
    "        y = -1.5+j*yvar\n",
    "        z = x+y*1j\n",
    "        if isbounded(z):\n",
    "            Juliaset.putpixel((i,j),(0,0,  0))\n",
    "        else:\n",
    "            Juliaset.putpixel((i,j),(255, 255, 255))\n",
    " \n",
    "    \n",
    "Juliaset.show()"
   ]
  },
  {
   "cell_type": "code",
   "execution_count": null,
   "metadata": {
    "collapsed": true
   },
   "outputs": [],
   "source": []
  }
 ],
 "metadata": {
  "kernelspec": {
   "display_name": "Python 3",
   "language": "python",
   "name": "python3"
  },
  "language_info": {
   "codemirror_mode": {
    "name": "ipython",
    "version": 3
   },
   "file_extension": ".py",
   "mimetype": "text/x-python",
   "name": "python",
   "nbconvert_exporter": "python",
   "pygments_lexer": "ipython3",
   "version": "3.7.3"
  }
 },
 "nbformat": 4,
 "nbformat_minor": 1
}
